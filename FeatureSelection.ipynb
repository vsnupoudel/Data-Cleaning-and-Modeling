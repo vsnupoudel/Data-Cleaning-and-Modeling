{
 "cells": [
  {
   "cell_type": "markdown",
   "metadata": {},
   "source": [
    "Dataset taken from oliver.tomic@nmbu.no; kristian.liland@nmbu.no, and modified few features for demonstration."
   ]
  },
  {
   "cell_type": "code",
   "execution_count": 66,
   "metadata": {},
   "outputs": [],
   "source": [
    "import numpy as np\n",
    "import pandas as pd"
   ]
  },
  {
   "cell_type": "code",
   "execution_count": 67,
   "metadata": {},
   "outputs": [],
   "source": [
    "from mlxtend.feature_selection import SequentialFeatureSelector as SFS\n",
    "from mlxtend.plotting import plot_sequential_feature_selection as plot_sfs\n",
    "from sklearn.preprocessing import OneHotEncoder"
   ]
  },
  {
   "cell_type": "code",
   "execution_count": 68,
   "metadata": {},
   "outputs": [
    {
     "name": "stdout",
     "output_type": "stream",
     "text": [
      "shape: (7108, 9)\n"
     ]
    },
    {
     "data": {
      "text/html": [
       "<div>\n",
       "<style scoped>\n",
       "    .dataframe tbody tr th:only-of-type {\n",
       "        vertical-align: middle;\n",
       "    }\n",
       "\n",
       "    .dataframe tbody tr th {\n",
       "        vertical-align: top;\n",
       "    }\n",
       "\n",
       "    .dataframe thead th {\n",
       "        text-align: right;\n",
       "    }\n",
       "</style>\n",
       "<table border=\"1\" class=\"dataframe\">\n",
       "  <thead>\n",
       "    <tr style=\"text-align: right;\">\n",
       "      <th></th>\n",
       "      <th>Feature1</th>\n",
       "      <th>Feature2</th>\n",
       "      <th>Feature3</th>\n",
       "      <th>Feature4</th>\n",
       "      <th>Feature5</th>\n",
       "      <th>Feature6</th>\n",
       "      <th>Feature7</th>\n",
       "      <th>Feature8</th>\n",
       "      <th>ylabel</th>\n",
       "    </tr>\n",
       "  </thead>\n",
       "  <tbody>\n",
       "    <tr>\n",
       "      <th>0</th>\n",
       "      <td>1</td>\n",
       "      <td>Hurricane</td>\n",
       "      <td>1</td>\n",
       "      <td>179</td>\n",
       "      <td>99</td>\n",
       "      <td>99</td>\n",
       "      <td>139</td>\n",
       "      <td>74.5822</td>\n",
       "      <td>0</td>\n",
       "    </tr>\n",
       "    <tr>\n",
       "      <th>1</th>\n",
       "      <td>1</td>\n",
       "      <td>Flood</td>\n",
       "      <td>1</td>\n",
       "      <td>298</td>\n",
       "      <td>258</td>\n",
       "      <td>258</td>\n",
       "      <td>239</td>\n",
       "      <td>181.8275</td>\n",
       "      <td>2</td>\n",
       "    </tr>\n",
       "  </tbody>\n",
       "</table>\n",
       "</div>"
      ],
      "text/plain": [
       "   Feature1   Feature2  Feature3  Feature4  Feature5  Feature6  Feature7  \\\n",
       "0         1  Hurricane         1       179        99        99       139   \n",
       "1         1      Flood         1       298       258       258       239   \n",
       "\n",
       "   Feature8  ylabel  \n",
       "0   74.5822       0  \n",
       "1  181.8275       2  "
      ]
     },
     "execution_count": 68,
     "metadata": {},
     "output_type": "execute_result"
    }
   ],
   "source": [
    "df = pd.read_csv(\"data.csv\")\n",
    "print('shape:', df.shape)\n",
    "df.head(2)"
   ]
  },
  {
   "cell_type": "markdown",
   "metadata": {},
   "source": [
    "## Pandas way to get dummified data for categorical-nominal variables\n",
    "Since Feature2 is categorical-nominal"
   ]
  },
  {
   "cell_type": "code",
   "execution_count": 69,
   "metadata": {},
   "outputs": [],
   "source": [
    "ddf = pd.get_dummies(df['Feature2'] )"
   ]
  },
  {
   "cell_type": "code",
   "execution_count": 70,
   "metadata": {},
   "outputs": [
    {
     "name": "stdout",
     "output_type": "stream",
     "text": [
      "shape: (7108, 3)\n"
     ]
    },
    {
     "data": {
      "text/html": [
       "<div>\n",
       "<style scoped>\n",
       "    .dataframe tbody tr th:only-of-type {\n",
       "        vertical-align: middle;\n",
       "    }\n",
       "\n",
       "    .dataframe tbody tr th {\n",
       "        vertical-align: top;\n",
       "    }\n",
       "\n",
       "    .dataframe thead th {\n",
       "        text-align: right;\n",
       "    }\n",
       "</style>\n",
       "<table border=\"1\" class=\"dataframe\">\n",
       "  <thead>\n",
       "    <tr style=\"text-align: right;\">\n",
       "      <th></th>\n",
       "      <th>Famine</th>\n",
       "      <th>Flood</th>\n",
       "      <th>Hurricane</th>\n",
       "    </tr>\n",
       "  </thead>\n",
       "  <tbody>\n",
       "    <tr>\n",
       "      <th>0</th>\n",
       "      <td>0</td>\n",
       "      <td>0</td>\n",
       "      <td>1</td>\n",
       "    </tr>\n",
       "    <tr>\n",
       "      <th>1</th>\n",
       "      <td>0</td>\n",
       "      <td>1</td>\n",
       "      <td>0</td>\n",
       "    </tr>\n",
       "  </tbody>\n",
       "</table>\n",
       "</div>"
      ],
      "text/plain": [
       "   Famine  Flood  Hurricane\n",
       "0       0      0          1\n",
       "1       0      1          0"
      ]
     },
     "execution_count": 70,
     "metadata": {},
     "output_type": "execute_result"
    }
   ],
   "source": [
    "print('shape:', ddf.shape)\n",
    "ddf.head(2)"
   ]
  },
  {
   "cell_type": "code",
   "execution_count": 71,
   "metadata": {},
   "outputs": [],
   "source": [
    "df_fine = pd.concat( [df, ddf], axis = 1).drop(columns='Feature2')"
   ]
  },
  {
   "cell_type": "code",
   "execution_count": 72,
   "metadata": {},
   "outputs": [
    {
     "name": "stdout",
     "output_type": "stream",
     "text": [
      "(7108, 11)\n"
     ]
    },
    {
     "data": {
      "text/html": [
       "<div>\n",
       "<style scoped>\n",
       "    .dataframe tbody tr th:only-of-type {\n",
       "        vertical-align: middle;\n",
       "    }\n",
       "\n",
       "    .dataframe tbody tr th {\n",
       "        vertical-align: top;\n",
       "    }\n",
       "\n",
       "    .dataframe thead th {\n",
       "        text-align: right;\n",
       "    }\n",
       "</style>\n",
       "<table border=\"1\" class=\"dataframe\">\n",
       "  <thead>\n",
       "    <tr style=\"text-align: right;\">\n",
       "      <th></th>\n",
       "      <th>Feature1</th>\n",
       "      <th>Feature3</th>\n",
       "      <th>Feature4</th>\n",
       "      <th>Feature5</th>\n",
       "      <th>Feature6</th>\n",
       "      <th>Feature7</th>\n",
       "      <th>Feature8</th>\n",
       "      <th>ylabel</th>\n",
       "      <th>Famine</th>\n",
       "      <th>Flood</th>\n",
       "      <th>Hurricane</th>\n",
       "    </tr>\n",
       "  </thead>\n",
       "  <tbody>\n",
       "    <tr>\n",
       "      <th>0</th>\n",
       "      <td>1</td>\n",
       "      <td>1</td>\n",
       "      <td>179</td>\n",
       "      <td>99</td>\n",
       "      <td>99</td>\n",
       "      <td>139</td>\n",
       "      <td>74.5822</td>\n",
       "      <td>0</td>\n",
       "      <td>0</td>\n",
       "      <td>0</td>\n",
       "      <td>1</td>\n",
       "    </tr>\n",
       "    <tr>\n",
       "      <th>1</th>\n",
       "      <td>1</td>\n",
       "      <td>1</td>\n",
       "      <td>298</td>\n",
       "      <td>258</td>\n",
       "      <td>258</td>\n",
       "      <td>239</td>\n",
       "      <td>181.8275</td>\n",
       "      <td>2</td>\n",
       "      <td>0</td>\n",
       "      <td>1</td>\n",
       "      <td>0</td>\n",
       "    </tr>\n",
       "  </tbody>\n",
       "</table>\n",
       "</div>"
      ],
      "text/plain": [
       "   Feature1  Feature3  Feature4  Feature5  Feature6  Feature7  Feature8  \\\n",
       "0         1         1       179        99        99       139   74.5822   \n",
       "1         1         1       298       258       258       239  181.8275   \n",
       "\n",
       "   ylabel  Famine  Flood  Hurricane  \n",
       "0       0       0      0          1  \n",
       "1       2       0      1          0  "
      ]
     },
     "execution_count": 72,
     "metadata": {},
     "output_type": "execute_result"
    }
   ],
   "source": [
    "print(df_fine.shape)\n",
    "df_fine.head(2)"
   ]
  },
  {
   "cell_type": "code",
   "execution_count": 73,
   "metadata": {},
   "outputs": [],
   "source": [
    "X = df_fine.drop(columns=['ylabel']).values\n",
    "y = df_fine['ylabel'].values"
   ]
  },
  {
   "cell_type": "markdown",
   "metadata": {},
   "source": [
    "## Now running feature selection with mlxtend library\n",
    "- using randomforest classifier in this case, can use others also.."
   ]
  },
  {
   "cell_type": "code",
   "execution_count": 74,
   "metadata": {},
   "outputs": [],
   "source": [
    "#-----------------------------------------------------------\n",
    "## Automatic feature selection\n",
    "#-----------------------------------------------------------\n",
    "from mlxtend.feature_selection import SequentialFeatureSelector as SFS\n",
    "from mlxtend.plotting import plot_sequential_feature_selection as plot_sfs\n",
    "from  sklearn.ensemble import RandomForestClassifier"
   ]
  },
  {
   "cell_type": "code",
   "execution_count": 83,
   "metadata": {},
   "outputs": [
    {
     "name": "stderr",
     "output_type": "stream",
     "text": [
      "[Parallel(n_jobs=-1)]: Using backend LokyBackend with 8 concurrent workers.\n",
      "[Parallel(n_jobs=-1)]: Done   6 out of  10 | elapsed:    5.5s remaining:    3.7s\n",
      "[Parallel(n_jobs=-1)]: Done  10 out of  10 | elapsed:    8.3s finished\n",
      "Features: 1/8[Parallel(n_jobs=-1)]: Using backend LokyBackend with 8 concurrent workers.\n",
      "[Parallel(n_jobs=-1)]: Done   4 out of   9 | elapsed:    5.1s remaining:    6.4s\n",
      "[Parallel(n_jobs=-1)]: Done   9 out of   9 | elapsed:    7.5s finished\n",
      "[Parallel(n_jobs=-1)]: Using backend LokyBackend with 8 concurrent workers.\n",
      "[Parallel(n_jobs=-1)]: Done   1 out of   1 | elapsed:    2.7s finished\n",
      "Features: 2/8[Parallel(n_jobs=-1)]: Using backend LokyBackend with 8 concurrent workers.\n",
      "[Parallel(n_jobs=-1)]: Done   2 out of   8 | elapsed:    6.7s remaining:   20.2s\n",
      "[Parallel(n_jobs=-1)]: Done   8 out of   8 | elapsed:    7.3s finished\n",
      "[Parallel(n_jobs=-1)]: Using backend LokyBackend with 8 concurrent workers.\n",
      "[Parallel(n_jobs=-1)]: Done   2 out of   2 | elapsed:    3.0s remaining:    0.0s\n",
      "[Parallel(n_jobs=-1)]: Done   2 out of   2 | elapsed:    3.0s finished\n",
      "Features: 3/8[Parallel(n_jobs=-1)]: Using backend LokyBackend with 8 concurrent workers.\n",
      "[Parallel(n_jobs=-1)]: Done   7 out of   7 | elapsed:    6.6s finished\n",
      "[Parallel(n_jobs=-1)]: Using backend LokyBackend with 8 concurrent workers.\n",
      "[Parallel(n_jobs=-1)]: Done   3 out of   3 | elapsed:    3.5s finished\n",
      "Features: 4/8[Parallel(n_jobs=-1)]: Using backend LokyBackend with 8 concurrent workers.\n",
      "[Parallel(n_jobs=-1)]: Done   6 out of   6 | elapsed:    5.7s finished\n",
      "[Parallel(n_jobs=-1)]: Using backend LokyBackend with 8 concurrent workers.\n",
      "[Parallel(n_jobs=-1)]: Done   4 out of   4 | elapsed:    4.2s remaining:    0.0s\n",
      "[Parallel(n_jobs=-1)]: Done   4 out of   4 | elapsed:    4.2s finished\n",
      "Features: 5/8[Parallel(n_jobs=-1)]: Using backend LokyBackend with 8 concurrent workers.\n",
      "[Parallel(n_jobs=-1)]: Done   2 out of   5 | elapsed:    4.4s remaining:    6.6s\n",
      "[Parallel(n_jobs=-1)]: Done   5 out of   5 | elapsed:    4.9s finished\n",
      "[Parallel(n_jobs=-1)]: Using backend LokyBackend with 8 concurrent workers.\n",
      "[Parallel(n_jobs=-1)]: Done   2 out of   5 | elapsed:    4.5s remaining:    6.8s\n",
      "[Parallel(n_jobs=-1)]: Done   5 out of   5 | elapsed:    4.9s finished\n",
      "Features: 6/8[Parallel(n_jobs=-1)]: Using backend LokyBackend with 8 concurrent workers.\n",
      "[Parallel(n_jobs=-1)]: Done   4 out of   4 | elapsed:    4.1s remaining:    0.0s\n",
      "[Parallel(n_jobs=-1)]: Done   4 out of   4 | elapsed:    4.1s finished\n",
      "[Parallel(n_jobs=-1)]: Using backend LokyBackend with 8 concurrent workers.\n",
      "[Parallel(n_jobs=-1)]: Done   6 out of   6 | elapsed:    5.3s finished\n",
      "Features: 7/8[Parallel(n_jobs=-1)]: Using backend LokyBackend with 8 concurrent workers.\n",
      "[Parallel(n_jobs=-1)]: Done   3 out of   3 | elapsed:    3.8s finished\n",
      "[Parallel(n_jobs=-1)]: Using backend LokyBackend with 8 concurrent workers.\n",
      "[Parallel(n_jobs=-1)]: Done   7 out of   7 | elapsed:    6.2s finished\n",
      "Features: 8/8"
     ]
    }
   ],
   "source": [
    "# =============================================================================\n",
    "# Initialise Random forest classifier\n",
    "# =============================================================================\n",
    "classifier = RandomForestClassifier(random_state=1, n_estimators=100\n",
    "                                 , max_depth=10, n_jobs=-1)\n",
    "\n",
    "# =============================================================================\n",
    "# Select features using Sequential Feature Selector in mlxtend\n",
    "# https://rasbt.github.io/mlxtend/user_guide/feature_selection/SequentialFeatureSelector/ \n",
    "# =============================================================================\n",
    "\n",
    "# Initialise Sequential Feature Selector\n",
    "sfs1 = SFS(classifier, \n",
    "           k_features=8, # select this many features\n",
    "           forward=True, \n",
    "           floating=True,  # performs removal and additions more dynamically\n",
    "           verbose= 1,  # amount of logging information to show\n",
    "           scoring='accuracy',\n",
    "           cv=6,            # cross validation 6 fold\n",
    "          n_jobs= -1)   # use all processor cores\n",
    "\n",
    "# Fit models\n",
    "sfs1 = sfs1.fit(X, y)\n"
   ]
  },
  {
   "cell_type": "code",
   "execution_count": 84,
   "metadata": {},
   "outputs": [
    {
     "data": {
      "text/html": [
       "<div>\n",
       "<style scoped>\n",
       "    .dataframe tbody tr th:only-of-type {\n",
       "        vertical-align: middle;\n",
       "    }\n",
       "\n",
       "    .dataframe tbody tr th {\n",
       "        vertical-align: top;\n",
       "    }\n",
       "\n",
       "    .dataframe thead th {\n",
       "        text-align: right;\n",
       "    }\n",
       "</style>\n",
       "<table border=\"1\" class=\"dataframe\">\n",
       "  <thead>\n",
       "    <tr style=\"text-align: right;\">\n",
       "      <th></th>\n",
       "      <th>1</th>\n",
       "      <th>2</th>\n",
       "      <th>3</th>\n",
       "      <th>4</th>\n",
       "      <th>5</th>\n",
       "      <th>6</th>\n",
       "      <th>7</th>\n",
       "      <th>8</th>\n",
       "    </tr>\n",
       "  </thead>\n",
       "  <tbody>\n",
       "    <tr>\n",
       "      <th>feature_idx</th>\n",
       "      <td>(8,)</td>\n",
       "      <td>(6, 8)</td>\n",
       "      <td>(2, 6, 8)</td>\n",
       "      <td>(2, 4, 6, 8)</td>\n",
       "      <td>(2, 4, 6, 7, 8)</td>\n",
       "      <td>(1, 2, 4, 6, 7, 8)</td>\n",
       "      <td>(1, 2, 4, 6, 7, 8, 9)</td>\n",
       "      <td>(0, 1, 2, 4, 6, 7, 8, 9)</td>\n",
       "    </tr>\n",
       "    <tr>\n",
       "      <th>cv_scores</th>\n",
       "      <td>[0.6514767932489451, 0.6523206751054852, 0.652...</td>\n",
       "      <td>[0.6717299578059072, 0.6565400843881857, 0.661...</td>\n",
       "      <td>[0.6776371308016877, 0.6675105485232068, 0.687...</td>\n",
       "      <td>[0.6776371308016877, 0.6683544303797468, 0.673...</td>\n",
       "      <td>[0.680168776371308, 0.6725738396624472, 0.6860...</td>\n",
       "      <td>[0.6691983122362869, 0.6717299578059072, 0.679...</td>\n",
       "      <td>[0.679324894514768, 0.6616033755274262, 0.6869...</td>\n",
       "      <td>[0.6751054852320675, 0.6675105485232068, 0.680...</td>\n",
       "    </tr>\n",
       "    <tr>\n",
       "      <th>avg_score</th>\n",
       "      <td>0.652082</td>\n",
       "      <td>0.660664</td>\n",
       "      <td>0.676704</td>\n",
       "      <td>0.67375</td>\n",
       "      <td>0.680644</td>\n",
       "      <td>0.680082</td>\n",
       "      <td>0.68008</td>\n",
       "      <td>0.679799</td>\n",
       "    </tr>\n",
       "    <tr>\n",
       "      <th>feature_names</th>\n",
       "      <td>(8,)</td>\n",
       "      <td>(6, 8)</td>\n",
       "      <td>(2, 6, 8)</td>\n",
       "      <td>(2, 4, 6, 8)</td>\n",
       "      <td>(2, 4, 6, 7, 8)</td>\n",
       "      <td>(1, 2, 4, 6, 7, 8)</td>\n",
       "      <td>(1, 2, 4, 6, 7, 8, 9)</td>\n",
       "      <td>(0, 1, 2, 4, 6, 7, 8, 9)</td>\n",
       "    </tr>\n",
       "    <tr>\n",
       "      <th>ci_bound</th>\n",
       "      <td>0.000329264</td>\n",
       "      <td>0.00700935</td>\n",
       "      <td>0.00896244</td>\n",
       "      <td>0.00897183</td>\n",
       "      <td>0.00824634</td>\n",
       "      <td>0.0105671</td>\n",
       "      <td>0.0104446</td>\n",
       "      <td>0.00736945</td>\n",
       "    </tr>\n",
       "    <tr>\n",
       "      <th>std_dev</th>\n",
       "      <td>0.000300892</td>\n",
       "      <td>0.00640537</td>\n",
       "      <td>0.00819017</td>\n",
       "      <td>0.00819875</td>\n",
       "      <td>0.00753577</td>\n",
       "      <td>0.00965657</td>\n",
       "      <td>0.00954464</td>\n",
       "      <td>0.00673445</td>\n",
       "    </tr>\n",
       "    <tr>\n",
       "      <th>std_err</th>\n",
       "      <td>0.000134563</td>\n",
       "      <td>0.00286457</td>\n",
       "      <td>0.00366275</td>\n",
       "      <td>0.00366659</td>\n",
       "      <td>0.0033701</td>\n",
       "      <td>0.00431855</td>\n",
       "      <td>0.00426849</td>\n",
       "      <td>0.00301174</td>\n",
       "    </tr>\n",
       "  </tbody>\n",
       "</table>\n",
       "</div>"
      ],
      "text/plain": [
       "                                                               1  \\\n",
       "feature_idx                                                 (8,)   \n",
       "cv_scores      [0.6514767932489451, 0.6523206751054852, 0.652...   \n",
       "avg_score                                               0.652082   \n",
       "feature_names                                               (8,)   \n",
       "ci_bound                                             0.000329264   \n",
       "std_dev                                              0.000300892   \n",
       "std_err                                              0.000134563   \n",
       "\n",
       "                                                               2  \\\n",
       "feature_idx                                               (6, 8)   \n",
       "cv_scores      [0.6717299578059072, 0.6565400843881857, 0.661...   \n",
       "avg_score                                               0.660664   \n",
       "feature_names                                             (6, 8)   \n",
       "ci_bound                                              0.00700935   \n",
       "std_dev                                               0.00640537   \n",
       "std_err                                               0.00286457   \n",
       "\n",
       "                                                               3  \\\n",
       "feature_idx                                            (2, 6, 8)   \n",
       "cv_scores      [0.6776371308016877, 0.6675105485232068, 0.687...   \n",
       "avg_score                                               0.676704   \n",
       "feature_names                                          (2, 6, 8)   \n",
       "ci_bound                                              0.00896244   \n",
       "std_dev                                               0.00819017   \n",
       "std_err                                               0.00366275   \n",
       "\n",
       "                                                               4  \\\n",
       "feature_idx                                         (2, 4, 6, 8)   \n",
       "cv_scores      [0.6776371308016877, 0.6683544303797468, 0.673...   \n",
       "avg_score                                                0.67375   \n",
       "feature_names                                       (2, 4, 6, 8)   \n",
       "ci_bound                                              0.00897183   \n",
       "std_dev                                               0.00819875   \n",
       "std_err                                               0.00366659   \n",
       "\n",
       "                                                               5  \\\n",
       "feature_idx                                      (2, 4, 6, 7, 8)   \n",
       "cv_scores      [0.680168776371308, 0.6725738396624472, 0.6860...   \n",
       "avg_score                                               0.680644   \n",
       "feature_names                                    (2, 4, 6, 7, 8)   \n",
       "ci_bound                                              0.00824634   \n",
       "std_dev                                               0.00753577   \n",
       "std_err                                                0.0033701   \n",
       "\n",
       "                                                               6  \\\n",
       "feature_idx                                   (1, 2, 4, 6, 7, 8)   \n",
       "cv_scores      [0.6691983122362869, 0.6717299578059072, 0.679...   \n",
       "avg_score                                               0.680082   \n",
       "feature_names                                 (1, 2, 4, 6, 7, 8)   \n",
       "ci_bound                                               0.0105671   \n",
       "std_dev                                               0.00965657   \n",
       "std_err                                               0.00431855   \n",
       "\n",
       "                                                               7  \\\n",
       "feature_idx                                (1, 2, 4, 6, 7, 8, 9)   \n",
       "cv_scores      [0.679324894514768, 0.6616033755274262, 0.6869...   \n",
       "avg_score                                                0.68008   \n",
       "feature_names                              (1, 2, 4, 6, 7, 8, 9)   \n",
       "ci_bound                                               0.0104446   \n",
       "std_dev                                               0.00954464   \n",
       "std_err                                               0.00426849   \n",
       "\n",
       "                                                               8  \n",
       "feature_idx                             (0, 1, 2, 4, 6, 7, 8, 9)  \n",
       "cv_scores      [0.6751054852320675, 0.6675105485232068, 0.680...  \n",
       "avg_score                                               0.679799  \n",
       "feature_names                           (0, 1, 2, 4, 6, 7, 8, 9)  \n",
       "ci_bound                                              0.00736945  \n",
       "std_dev                                               0.00673445  \n",
       "std_err                                               0.00301174  "
      ]
     },
     "execution_count": 84,
     "metadata": {},
     "output_type": "execute_result"
    }
   ],
   "source": [
    "# This dictionary contains results from all compuations\n",
    "metricDict = pd.DataFrame(  sfs1.get_metric_dict() )\n",
    "metricDict"
   ]
  },
  {
   "cell_type": "code",
   "execution_count": 85,
   "metadata": {},
   "outputs": [
    {
     "data": {
      "image/png": "[encoded data removed]",
      "text/plain": [
       "<Figure size 432x288 with 1 Axes>"
      ]
     },
     "metadata": {
      "needs_background": "light"
     },
     "output_type": "display_data"
    }
   ],
   "source": [
    "import matplotlib.pyplot as plt\n",
    "# Initialise plot\n",
    "fig1 = plot_sfs(sfs1.get_metric_dict(), kind='std_dev')\n",
    "\n",
    "#plt.ylim([0.8, 1])\n",
    "plt.title('Sequential Feature Selection (w. StdDev)')\n",
    "plt.grid()\n",
    "plt.show()"
   ]
  },
  {
   "cell_type": "markdown",
   "metadata": {},
   "source": [
    "**So, 5 features are optimal by this method. The location of the feature can be found in the metridict() dataframe above.\n",
    "The feature are indexed 2,4,6,7,8.**"
   ]
  },
  {
   "cell_type": "code",
   "execution_count": 86,
   "metadata": {},
   "outputs": [
    {
     "name": "stdout",
     "output_type": "stream",
     "text": [
      "Best features are : \n",
      "\n",
      "Feature4\n",
      "Feature6\n",
      "Feature8\n",
      "ylabel\n",
      "Famine\n"
     ]
    }
   ],
   "source": [
    "print('Best features are : \\n')\n",
    "for i in (2, 4, 6, 7, 8):\n",
    "    print(df_fine.columns[i])"
   ]
  },
  {
   "cell_type": "markdown",
   "metadata": {},
   "source": [
    "You can explore other options in mlxtend or here also. https://scikit-learn.org/stable/modules/feature_selection.html"
   ]
  },
  {
   "cell_type": "code",
   "execution_count": null,
   "metadata": {},
   "outputs": [],
   "source": []
  }
 ],
 "metadata": {
  "kernelspec": {
   "display_name": "Python 3",
   "language": "python",
   "name": "python3"
  },
  "language_info": {
   "codemirror_mode": {
    "name": "ipython",
    "version": 3
   },
   "file_extension": ".py",
   "mimetype": "text/x-python",
   "name": "python",
   "nbconvert_exporter": "python",
   "pygments_lexer": "ipython3",
   "version": "3.7.7"
  }
 },
 "nbformat": 4,
 "nbformat_minor": 4
}
